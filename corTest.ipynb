{
 "cells": [
  {
   "cell_type": "code",
   "execution_count": 1,
   "id": "dab2cbec",
   "metadata": {},
   "outputs": [
    {
     "data": {
      "text/plain": [
       "Index(['country', 'year', 'iso_code', 'population', 'gdp', 'cement_co2',\n",
       "       'cement_co2_per_capita', 'co2', 'co2_growth_abs', 'co2_growth_prct',\n",
       "       'co2_including_luc', 'co2_including_luc_growth_abs',\n",
       "       'co2_including_luc_growth_prct', 'co2_including_luc_per_capita',\n",
       "       'co2_including_luc_per_gdp', 'co2_including_luc_per_unit_energy',\n",
       "       'co2_per_capita', 'co2_per_gdp', 'co2_per_unit_energy', 'coal_co2',\n",
       "       'coal_co2_per_capita', 'consumption_co2', 'consumption_co2_per_capita',\n",
       "       'consumption_co2_per_gdp', 'cumulative_cement_co2', 'cumulative_co2',\n",
       "       'cumulative_co2_including_luc', 'cumulative_coal_co2',\n",
       "       'cumulative_flaring_co2', 'cumulative_gas_co2', 'cumulative_luc_co2',\n",
       "       'cumulative_oil_co2', 'cumulative_other_co2', 'energy_per_capita',\n",
       "       'energy_per_gdp', 'flaring_co2', 'flaring_co2_per_capita', 'gas_co2',\n",
       "       'gas_co2_per_capita', 'ghg_excluding_lucf_per_capita', 'ghg_per_capita',\n",
       "       'land_use_change_co2', 'land_use_change_co2_per_capita', 'methane',\n",
       "       'methane_per_capita', 'nitrous_oxide', 'nitrous_oxide_per_capita',\n",
       "       'oil_co2', 'oil_co2_per_capita', 'other_co2_per_capita',\n",
       "       'other_industry_co2', 'primary_energy_consumption',\n",
       "       'share_global_cement_co2', 'share_global_co2',\n",
       "       'share_global_co2_including_luc', 'share_global_coal_co2',\n",
       "       'share_global_cumulative_cement_co2', 'share_global_cumulative_co2',\n",
       "       'share_global_cumulative_co2_including_luc',\n",
       "       'share_global_cumulative_coal_co2',\n",
       "       'share_global_cumulative_flaring_co2',\n",
       "       'share_global_cumulative_gas_co2', 'share_global_cumulative_luc_co2',\n",
       "       'share_global_cumulative_oil_co2', 'share_global_cumulative_other_co2',\n",
       "       'share_global_flaring_co2', 'share_global_gas_co2',\n",
       "       'share_global_luc_co2', 'share_global_oil_co2',\n",
       "       'share_global_other_co2', 'share_of_temperature_change_from_ghg',\n",
       "       'temperature_change_from_ch4', 'temperature_change_from_co2',\n",
       "       'temperature_change_from_ghg', 'temperature_change_from_n2o',\n",
       "       'total_ghg', 'total_ghg_excluding_lucf', 'trade_co2',\n",
       "       'trade_co2_share'],\n",
       "      dtype='object')"
      ]
     },
     "execution_count": 1,
     "metadata": {},
     "output_type": "execute_result"
    }
   ],
   "source": [
    "import pandas as pd\n",
    "\n",
    "# data = pd.read_csv('dataset/visualizing_global_co2_data.csv')\n",
    "data = pd.read_csv('dataset/Data_Science_CO2.csv', sep=\";\")\n",
    "\n",
    "data.columns"
   ]
  },
  {
   "cell_type": "code",
   "execution_count": 14,
   "id": "27f1e040",
   "metadata": {},
   "outputs": [
    {
     "data": {
      "text/html": [
       "<div>\n",
       "<style scoped>\n",
       "    .dataframe tbody tr th:only-of-type {\n",
       "        vertical-align: middle;\n",
       "    }\n",
       "\n",
       "    .dataframe tbody tr th {\n",
       "        vertical-align: top;\n",
       "    }\n",
       "\n",
       "    .dataframe thead th {\n",
       "        text-align: right;\n",
       "    }\n",
       "</style>\n",
       "<table border=\"1\" class=\"dataframe\">\n",
       "  <thead>\n",
       "    <tr style=\"text-align: right;\">\n",
       "      <th></th>\n",
       "      <th>country</th>\n",
       "      <th>gdp</th>\n",
       "      <th>co2</th>\n",
       "    </tr>\n",
       "    <tr>\n",
       "      <th>year</th>\n",
       "      <th></th>\n",
       "      <th></th>\n",
       "      <th></th>\n",
       "    </tr>\n",
       "  </thead>\n",
       "  <tbody>\n",
       "    <tr>\n",
       "      <th>1990</th>\n",
       "      <td>China</td>\n",
       "      <td>3.385122e+12</td>\n",
       "      <td>2484855</td>\n",
       "    </tr>\n",
       "    <tr>\n",
       "      <th>1991</th>\n",
       "      <td>China</td>\n",
       "      <td>3.508948e+12</td>\n",
       "      <td>2606096</td>\n",
       "    </tr>\n",
       "    <tr>\n",
       "      <th>1992</th>\n",
       "      <td>China</td>\n",
       "      <td>3.755037e+12</td>\n",
       "      <td>2730788</td>\n",
       "    </tr>\n",
       "    <tr>\n",
       "      <th>1993</th>\n",
       "      <td>China</td>\n",
       "      <td>4.126170e+12</td>\n",
       "      <td>2921651</td>\n",
       "    </tr>\n",
       "    <tr>\n",
       "      <th>1994</th>\n",
       "      <td>China</td>\n",
       "      <td>4.438753e+12</td>\n",
       "      <td>3100002</td>\n",
       "    </tr>\n",
       "  </tbody>\n",
       "</table>\n",
       "</div>"
      ],
      "text/plain": [
       "     country           gdp      co2\n",
       "year                               \n",
       "1990   China  3.385122e+12  2484855\n",
       "1991   China  3.508948e+12  2606096\n",
       "1992   China  3.755037e+12  2730788\n",
       "1993   China  4.126170e+12  2921651\n",
       "1994   China  4.438753e+12  3100002"
      ]
     },
     "execution_count": 14,
     "metadata": {},
     "output_type": "execute_result"
    }
   ],
   "source": [
    "Country = 'China'\n",
    "\n",
    "Country_data = data[data['country'] == Country]\n",
    "\n",
    "# Select relevant columns: Year, GDP, and CO2\n",
    "Country_gdp_co2 = Country_data[['country','year', 'gdp', 'co2']].dropna()\n",
    "\n",
    "Country_gdp_co2.set_index('year', inplace=True)\n",
    "\n",
    "\n",
    "Country_gdp_co2.head()"
   ]
  },
  {
   "cell_type": "code",
   "execution_count": 15,
   "id": "23665e9f",
   "metadata": {},
   "outputs": [],
   "source": [
    "from statsmodels.tsa.stattools import adfuller\n",
    "from scipy.stats import pearsonr\n",
    "import matplotlib.pyplot as plt"
   ]
  },
  {
   "cell_type": "code",
   "execution_count": null,
   "id": "69b98a4d",
   "metadata": {},
   "outputs": [
    {
     "name": "stdout",
     "output_type": "stream",
     "text": [
      "ADF Statistic for GDP: -0.4484594787813038\n",
      "p-value: 0.9016879783923154\n",
      "GDP is non-stationary (p >= 0.05)\n",
      "--------------------------------------------------\n",
      "ADF Statistic for CO2: -0.3179227045176624\n",
      "p-value: 0.9229273044392816\n",
      "CO2 is non-stationary (p >= 0.05)\n",
      "--------------------------------------------------\n"
     ]
    },
    {
     "data": {
      "image/png": "[encoded data removed]",
      "text/plain": [
       "<Figure size 1200x600 with 1 Axes>"
      ]
     },
     "metadata": {},
     "output_type": "display_data"
    },
    {
     "data": {
      "text/plain": [
       "(0.9864922955524444, 9.435306267974944e-23)"
      ]
     },
     "execution_count": 16,
     "metadata": {},
     "output_type": "execute_result"
    }
   ],
   "source": [
    "# ADF dingen\n",
    "def adf_test(series, name):\n",
    "    result = adfuller(series)\n",
    "    print(f'ADF Statistic for {name}: {result[0]}')\n",
    "    print(f'p-value: {result[1]}')\n",
    "    if result[1] < 0.05:\n",
    "        print(f\"{name} is stationary (p < 0.05)\")\n",
    "    else:\n",
    "        print(f\"{name} is non-stationary (p >= 0.05)\")\n",
    "    print('-'*50)\n",
    "adf_test(Country_gdp_co2['gdp'], 'GDP')\n",
    "adf_test(Country_gdp_co2['co2'], 'CO2')\n",
    "\n",
    "# Diff\n",
    "# Country_gdp_diff = Country_gdp_co2['gdp'].diff().dropna()\n",
    "# Country_co2_diff = Country_gdp_co2['co2'].diff().dropna()\n",
    "\n",
    "\n",
    "Country_gdp_diff = Country_gdp_co2['gdp'].dropna()\n",
    "Country_co2_diff = Country_gdp_co2['co2'].dropna()\n",
    "\n",
    "# Plot\n",
    "# TODO Y SCALING FIX\n",
    "plt.figure(figsize=(12, 6))\n",
    "plt.plot(Country_gdp_diff, label=' GDP')\n",
    "plt.plot(Country_co2_diff, label=' CO2', linestyle='--')\n",
    "plt.title(' GDP and CO2' + ' ' + Country)\n",
    "plt.legend()\n",
    "plt.show()\n",
    "\n",
    "# Cor Testing\n",
    "correlation, p_value = pearsonr(Country_gdp_diff, Country_co2_diff)\n",
    "correlation, p_value\n",
    "\n",
    "\n"
   ]
  },
  {
   "cell_type": "code",
   "execution_count": null,
   "id": "6f3cdba0",
   "metadata": {},
   "outputs": [],
   "source": []
  },
  {
   "cell_type": "code",
   "execution_count": null,
   "id": "36794f2a",
   "metadata": {},
   "outputs": [],
   "source": []
  }
 ],
 "metadata": {
  "kernelspec": {
   "display_name": "Python 3",
   "language": "python",
   "name": "python3"
  },
  "language_info": {
   "codemirror_mode": {
    "name": "ipython",
    "version": 3
   },
   "file_extension": ".py",
   "mimetype": "text/x-python",
   "name": "python",
   "nbconvert_exporter": "python",
   "pygments_lexer": "ipython3",
   "version": "3.12.3"
  }
 },
 "nbformat": 4,
 "nbformat_minor": 5
}
