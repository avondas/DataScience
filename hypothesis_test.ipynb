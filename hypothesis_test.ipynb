{
 "cells": [
  {
   "cell_type": "markdown",
   "metadata": {},
   "source": [
    "### HYPOTHESIS TEST"
   ]
  },
  {
   "cell_type": "code",
   "execution_count": 1,
   "metadata": {},
   "outputs": [
    {
     "name": "stdout",
     "output_type": "stream",
     "text": [
      "Slope: 2.458425810414948e-07\n",
      "Intercept: 4396.44257293806\n",
      "R-squared: 0.6436615224256959\n",
      "p-value: 0.0\n",
      "Standard error: 3.5777245513348517e-09\n",
      "Reject the null hypothesis: CO2 emissions have a statistically significant effect on the GDP of a country.\n"
     ]
    }
   ],
   "source": [
    "# we want to try to predict the CO2 emission of a country through GDP\n",
    "from scipy import stats\n",
    "import pandas as pd\n",
    "\n",
    "data = pd.read_csv(\"dataset/cleaned_data.csv\", sep=\";\")\n",
    "\n",
    "# Sample data\n",
    "gdp = data['gdp']\n",
    "co2 = data['co2']\n",
    "\n",
    "mean = gdp.mean()\n",
    "\n",
    "# H₀: CO₂ emissions have no statistically significant effect on the GDP of a country.\n",
    "# H₁: CO₂ emissions have a statistically significant effect on the GDP of a country.\n",
    "\n",
    "# Perform linear regression using scipy\n",
    "slope, intercept, r_value, p_value, std_err = stats.linregress(gdp, co2)\n",
    "\n",
    "# Print the results\n",
    "print(f\"Slope: {slope}\")\n",
    "print(f\"Intercept: {intercept}\")\n",
    "print(f\"R-squared: {r_value**2}\")\n",
    "print(f\"p-value: {p_value}\")\n",
    "print(f\"Standard error: {std_err}\")\n",
    "\n",
    "# Hypothesis testing\n",
    "alpha = 0.05\n",
    "if p_value < alpha:\n",
    "    print(\"Reject the null hypothesis: CO2 emissions have a statistically significant effect on the GDP of a country.\")\n",
    "else:\n",
    "    print(\"Fail to reject the null hypothesis: CO2 emissions have no statistically significant effect on the GDP of a country.\")"
   ]
  }
 ],
 "metadata": {
  "kernelspec": {
   "display_name": "Python 3",
   "language": "python",
   "name": "python3"
  },
  "language_info": {
   "codemirror_mode": {
    "name": "ipython",
    "version": 3
   },
   "file_extension": ".py",
   "mimetype": "text/x-python",
   "name": "python",
   "nbconvert_exporter": "python",
   "pygments_lexer": "ipython3",
   "version": "3.12.3"
  }
 },
 "nbformat": 4,
 "nbformat_minor": 2
}
