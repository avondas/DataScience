{
 "cells": [
  {
   "cell_type": "markdown",
   "metadata": {},
   "source": [
    "### TOOL DATA SCIENCE MINOR :D"
   ]
  },
  {
   "cell_type": "code",
   "execution_count": null,
   "metadata": {},
   "outputs": [
    {
     "name": "stdout",
     "output_type": "stream",
     "text": [
      "The predicted classification is:  High-income countries\n"
     ]
    },
    {
     "name": "stderr",
     "output_type": "stream",
     "text": [
      "/root/.local/lib/python3.12/site-packages/sklearn/base.py:493: UserWarning: X does not have valid feature names, but RandomForestClassifier was fitted with feature names\n",
      "  warnings.warn(\n"
     ]
    }
   ],
   "source": [
    "import pandas as pd\n",
    "from sklearn.ensemble import RandomForestClassifier\n",
    "from sklearn.preprocessing import LabelEncoder\n",
    "\n",
    "# Load the data\n",
    "data = pd.read_csv(\"dataset/cleaned_data.csv\", sep=\";\")\n",
    "\n",
    "# Extract the relevant columns\n",
    "features = data[['population','cement_co2', 'coal_co2', 'flaring_co2', 'gas_co2', 'land_use_change_co2', 'oil_co2', 'other_industry_co2', 'trade_co2']]\n",
    "dependent = data['classification']\n",
    "\n",
    "# Encode the string labels into numeric values\n",
    "label_encoder = LabelEncoder()\n",
    "dependent_encoded = label_encoder.fit_transform(dependent)\n",
    "\n",
    "# Initialize and fit the RandomForestClassifier\n",
    "rforest = RandomForestClassifier(max_depth=15)\n",
    "rforest = rforest.fit(features, dependent)\n",
    "\n",
    "# Get the to be predicted data\n",
    "print(\"The CO2 fields should be in million tonnes.\")\n",
    "print(\"Please enter the following data to predict the classification:\")\n",
    "population = input(\"Enter the population: \")\n",
    "cement_co2 = input(\"Enter the cement_co2: \")\n",
    "coal_co2 = input(\"Enter the coal_co2: \")\n",
    "flaring_co2 = input(\"Enter the flaring_co2: \")\n",
    "gas_co2 = input(\"Enter the gas_co2: \")\n",
    "land_use_change_co2 = input(\"Enter the land_use_change_co2: \")\n",
    "oil_co2 = input(\"Enter the oil_co2: \")\n",
    "other_industry_co2 = input(\"Enter the other_industry_co2: \")\n",
    "trade_co2 = input(\"Enter the trade_co2: \")\n",
    "\n",
    "if not population or not cement_co2 or not coal_co2 or not flaring_co2 or not gas_co2 or not land_use_change_co2 or not oil_co2 or not other_industry_co2 or not trade_co2:\n",
    "    print(\"Please enter valid data.\")\n",
    "    exit()\n",
    "\n",
    "# Predict the classification\n",
    "prediction = rforest.predict([[population, cement_co2, coal_co2, flaring_co2, gas_co2, land_use_change_co2, oil_co2, other_industry_co2, trade_co2]])\n",
    "print(\"The predicted classification is: \", prediction[0])"
   ]
  }
 ],
 "metadata": {
  "kernelspec": {
   "display_name": "Python 3",
   "language": "python",
   "name": "python3"
  },
  "language_info": {
   "codemirror_mode": {
    "name": "ipython",
    "version": 3
   },
   "file_extension": ".py",
   "mimetype": "text/x-python",
   "name": "python",
   "nbconvert_exporter": "python",
   "pygments_lexer": "ipython3",
   "version": "3.12.3"
  }
 },
 "nbformat": 4,
 "nbformat_minor": 2
}
