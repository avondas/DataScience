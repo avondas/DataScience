{
 "cells": [
  {
   "cell_type": "markdown",
   "metadata": {},
   "source": [
    "### here we load the dataset and import the libraries"
   ]
  },
  {
   "cell_type": "markdown",
   "metadata": {},
   "source": [
    "#### this is so we can easily fetch the libraries and data, we can skip running all cells this way and can just run whats needed"
   ]
  },
  {
   "cell_type": "code",
   "execution_count": 1,
   "metadata": {},
   "outputs": [],
   "source": [
    "import numpy as np\n",
    "import pandas as pd\n",
    "import matplotlib.pyplot as plt\n",
    "\n",
    "# Load the data\n",
    "data = pd.read_csv('dataset/visualizing_global_co2_data.csv')"
   ]
  },
  {
   "cell_type": "markdown",
   "metadata": {},
   "source": [
    "### see how many countries there are"
   ]
  },
  {
   "cell_type": "code",
   "execution_count": 2,
   "metadata": {},
   "outputs": [
    {
     "name": "stdout",
     "output_type": "stream",
     "text": [
      "278\n",
      "['Afghanistan' 'Africa' 'Africa (GCP)' 'Aland Islands' 'Albania' 'Algeria'\n",
      " 'American Samoa' 'Andorra' 'Angola' 'Anguilla' 'Antarctica'\n",
      " 'Antigua and Barbuda' 'Argentina' 'Armenia' 'Aruba' 'Asia' 'Asia (GCP)'\n",
      " 'Asia (excl. China and India)' 'Australia' 'Austria' 'Azerbaijan'\n",
      " 'Bahamas' 'Bahrain' 'Bangladesh' 'Barbados' 'Belarus' 'Belgium' 'Belize'\n",
      " 'Benin' 'Bermuda' 'Bhutan' 'Bolivia' 'Bonaire Sint Eustatius and Saba'\n",
      " 'Bosnia and Herzegovina' 'Botswana' 'Brazil' 'British Virgin Islands'\n",
      " 'Brunei' 'Bulgaria' 'Burkina Faso' 'Burundi' 'Cambodia' 'Cameroon'\n",
      " 'Canada' 'Cape Verde' 'Central African Republic' 'Central America (GCP)'\n",
      " 'Chad' 'Chile' 'China' 'Christmas Island' 'Colombia' 'Comoros' 'Congo'\n",
      " 'Cook Islands' 'Costa Rica' \"Cote d'Ivoire\" 'Croatia' 'Cuba' 'Curacao'\n",
      " 'Cyprus' 'Czechia' 'Democratic Republic of Congo' 'Denmark' 'Djibouti'\n",
      " 'Dominica' 'Dominican Republic' 'East Timor' 'Ecuador' 'Egypt'\n",
      " 'El Salvador' 'Equatorial Guinea' 'Eritrea' 'Estonia' 'Eswatini'\n",
      " 'Ethiopia' 'Europe' 'Europe (GCP)' 'Europe (excl. EU-27)'\n",
      " 'Europe (excl. EU-28)' 'European Union (27)' 'European Union (27) (GCP)'\n",
      " 'European Union (28)' 'Falkland Islands' 'Faroe Islands' 'Fiji' 'Finland'\n",
      " 'France' 'French Equatorial Africa (GCP)'\n",
      " 'French Equatorial Africa (Jones et al. 2023)' 'French Guiana'\n",
      " 'French Polynesia' 'French West Africa (GCP)'\n",
      " 'French West Africa (Jones et al. 2023)' 'Gabon' 'Gambia' 'Georgia'\n",
      " 'Germany' 'Ghana' 'Greece' 'Greenland' 'Grenada' 'Guadeloupe' 'Guatemala'\n",
      " 'Guernsey' 'Guinea' 'Guinea-Bissau' 'Guyana' 'Haiti'\n",
      " 'High-income countries' 'Honduras' 'Hong Kong' 'Hungary' 'Iceland'\n",
      " 'India' 'Indonesia' 'International transport' 'Iran' 'Iraq' 'Ireland'\n",
      " 'Isle of Man' 'Israel' 'Italy' 'Jamaica' 'Japan' 'Jersey' 'Jordan'\n",
      " 'Kazakhstan' 'Kenya' 'Kiribati' 'Kosovo' 'Kuwait'\n",
      " 'Kuwaiti Oil Fires (GCP)' 'Kuwaiti Oil Fires (Jones et al. 2023)'\n",
      " 'Kyrgyzstan' 'Laos' 'Latvia'\n",
      " 'Least developed countries (Jones et al. 2023)' 'Lebanon'\n",
      " 'Leeward Islands (GCP)' 'Leeward Islands (Jones et al. 2023)' 'Lesotho'\n",
      " 'Liberia' 'Libya' 'Liechtenstein' 'Lithuania' 'Low-income countries'\n",
      " 'Lower-middle-income countries' 'Luxembourg' 'Macao' 'Madagascar'\n",
      " 'Malawi' 'Malaysia' 'Maldives' 'Mali' 'Malta' 'Marshall Islands'\n",
      " 'Martinique' 'Mauritania' 'Mauritius' 'Mayotte' 'Mexico'\n",
      " 'Micronesia (country)' 'Middle East (GCP)' 'Moldova' 'Mongolia'\n",
      " 'Montenegro' 'Montserrat' 'Morocco' 'Mozambique' 'Myanmar' 'Namibia'\n",
      " 'Nauru' 'Nepal' 'Netherlands' 'Netherlands Antilles' 'New Caledonia'\n",
      " 'New Zealand' 'Nicaragua' 'Niger' 'Nigeria' 'Niue' 'Non-OECD (GCP)'\n",
      " 'North America' 'North America (GCP)' 'North America (excl. USA)'\n",
      " 'North Korea' 'North Macedonia' 'Norway' 'OECD (GCP)'\n",
      " 'OECD (Jones et al. 2023)' 'Oceania' 'Oceania (GCP)' 'Oman' 'Pakistan'\n",
      " 'Palau' 'Palestine' 'Panama' 'Panama Canal Zone (GCP)'\n",
      " 'Panama Canal Zone (Jones et al. 2023)' 'Papua New Guinea' 'Paraguay'\n",
      " 'Peru' 'Philippines' 'Poland' 'Portugal' 'Puerto Rico' 'Qatar' 'Reunion'\n",
      " 'Romania' 'Russia' 'Rwanda' 'Ryukyu Islands (GCP)'\n",
      " 'Ryukyu Islands (Jones et al. 2023)' 'Saint Helena'\n",
      " 'Saint Kitts and Nevis' 'Saint Lucia' 'Saint Martin (French part)'\n",
      " 'Saint Pierre and Miquelon' 'Saint Vincent and the Grenadines' 'Samoa'\n",
      " 'Sao Tome and Principe' 'Saudi Arabia' 'Senegal' 'Serbia' 'Seychelles'\n",
      " 'Sierra Leone' 'Singapore' 'Sint Maarten (Dutch part)' 'Slovakia'\n",
      " 'Slovenia' 'Solomon Islands' 'Somalia' 'South Africa' 'South America'\n",
      " 'South America (GCP)' 'South Korea' 'South Sudan' 'Spain' 'Sri Lanka'\n",
      " 'St. Kitts-Nevis-Anguilla (GCP)'\n",
      " 'St. Kitts-Nevis-Anguilla (Jones et al. 2023)' 'Sudan' 'Suriname'\n",
      " 'Svalbard and Jan Mayen' 'Sweden' 'Switzerland' 'Syria' 'Taiwan'\n",
      " 'Tajikistan' 'Tanzania' 'Thailand' 'Togo' 'Tonga' 'Trinidad and Tobago'\n",
      " 'Tunisia' 'Turkey' 'Turkmenistan' 'Turks and Caicos Islands' 'Tuvalu'\n",
      " 'Uganda' 'Ukraine' 'United Arab Emirates' 'United Kingdom'\n",
      " 'United States' 'United States Virgin Islands'\n",
      " 'Upper-middle-income countries' 'Uruguay' 'Uzbekistan' 'Vanuatu'\n",
      " 'Venezuela' 'Vietnam' 'Wallis and Futuna' 'Western Sahara' 'World'\n",
      " 'Yemen' 'Zambia' 'Zimbabwe']\n"
     ]
    }
   ],
   "source": [
    "# there is 278 countries in the dataset\n",
    "print(data['country'].unique().size)\n",
    "\n",
    "# this is the list of the countries\n",
    "print(data['country'].unique())"
   ]
  },
  {
   "cell_type": "markdown",
   "metadata": {},
   "source": [
    "### see when each country has gotten the most data to set a range to use"
   ]
  },
  {
   "cell_type": "code",
   "execution_count": 3,
   "metadata": {},
   "outputs": [
    {
     "name": "stdout",
     "output_type": "stream",
     "text": [
      "The most frequent year is 1990 with 197 occurrences.\n"
     ]
    }
   ],
   "source": [
    "# Group by country and year, then count non-null entries for each column per row\n",
    "grouped = data.groupby(['country', 'year']).count()\n",
    "\n",
    "# Check how many non-null entries there are in the grouped set of data\n",
    "grouped['count_of_ones'] = grouped.apply(lambda row: (row == 1).sum(), axis=1)\n",
    "\n",
    "# Reset to make 'country' and 'year' columns\n",
    "grouped_reset = grouped.reset_index()\n",
    "\n",
    "# Sort count of ones in descending order for each country to get the highest count first\n",
    "sorted_grouped = grouped_reset.sort_values(by=['country', 'count_of_ones'], ascending=[True, False])\n",
    "\n",
    "# Drop duplicates for each country after the first so we are keeping the highest count of ones\n",
    "highest_sum_of_ones = sorted_grouped.drop_duplicates(subset=['country'], keep='first')\n",
    "\n",
    "# Count how many times each year appears\n",
    "year_counts = highest_sum_of_ones['year'].value_counts()\n",
    "\n",
    "# Grab the most frequent year\n",
    "most_frequent_year = year_counts.idxmax()\n",
    "most_frequent_year_count = year_counts.max()\n",
    "\n",
    "print(f\"The most frequent year is {most_frequent_year} with {most_frequent_year_count} occurrences.\")"
   ]
  },
  {
   "cell_type": "markdown",
   "metadata": {},
   "source": [
    "### look at the gdp"
   ]
  },
  {
   "cell_type": "code",
   "execution_count": 43,
   "metadata": {},
   "outputs": [
    {
     "name": "stdout",
     "output_type": "stream",
     "text": [
      "166\n",
      "         country      mean_gdp  min_year       min_gdp  max_year       max_gdp\n",
      "0    Afghanistan  2.146437e+10      1994  7.919857e+09      2017  6.875280e+10\n",
      "1        Albania  1.160662e+10      1870  4.287330e+08      2018  3.400911e+10\n",
      "2        Algeria  1.651044e+11      1870  4.304640e+09      2018  5.903176e+11\n",
      "3         Angola  3.792500e+10      1950  6.905244e+09      2016  1.783339e+11\n",
      "4      Argentina  2.617168e+11      1850  2.193400e+09      2017  8.504822e+11\n",
      "..           ...           ...       ...           ...       ...           ...\n",
      "161      Vietnam  1.621886e+11      1870  8.475040e+09      2018  6.614884e+11\n",
      "162        World  3.865245e+13      1820  1.138510e+12      2018  1.136302e+14\n",
      "163        Yemen  4.583473e+10      1950  6.936333e+09      2010  1.181481e+11\n",
      "164       Zambia  1.571914e+10      1950  2.690862e+09      2018  6.097862e+10\n",
      "165     Zimbabwe  1.542784e+10      1950  3.186970e+09      1998  2.798427e+10\n",
      "\n",
      "[166 rows x 6 columns]\n"
     ]
    }
   ],
   "source": [
    "# remove the rows with missing values\n",
    "data_test = data[['country', 'year', 'gdp']].dropna()\n",
    "\n",
    "# double check the number of countries for the new dataframe size\n",
    "print(data_test['country'].unique().size)\n",
    "\n",
    "# average GDP per country\n",
    "average_gdp = data_test.groupby('country')['gdp'].mean()\n",
    "\n",
    "# get the minimum and maximum GDP for each country\n",
    "min_gdp = data_test.groupby('country')['gdp'].idxmin()\n",
    "max_gdp = data_test.groupby('country')['gdp'].idxmax()\n",
    "\n",
    "# get the corresponding year\n",
    "# ! get the row index of the minimum and maximum GDP and set the column names\n",
    "min_gdp_per_country = data_test.loc[min_gdp, ['country', 'year', 'gdp']].rename(columns={'year': 'min_year', 'gdp': 'min_gdp'})\n",
    "max_gdp_per_country = data_test.loc[max_gdp, ['country', 'year', 'gdp']].rename(columns={'year': 'max_year', 'gdp': 'max_gdp'})\n",
    "\n",
    "# make 1 dataframe with all the information\n",
    "# ! we reset the index to make the dataframe with its own column names\n",
    "gdp_per_country = average_gdp.reset_index().rename(columns={'gdp': 'mean_gdp'})\n",
    "\n",
    "# ! merge the min and max gdp into the average\n",
    "gdp_per_country = gdp_per_country.merge(min_gdp_per_country, on='country')\n",
    "gdp_per_country = gdp_per_country.merge(max_gdp_per_country, on='country')\n",
    "\n",
    "# Print the result\n",
    "print(gdp_per_country)"
   ]
  }
 ],
 "metadata": {
  "kernelspec": {
   "display_name": "Python 3",
   "language": "python",
   "name": "python3"
  },
  "language_info": {
   "codemirror_mode": {
    "name": "ipython",
    "version": 3
   },
   "file_extension": ".py",
   "mimetype": "text/x-python",
   "name": "python",
   "nbconvert_exporter": "python",
   "pygments_lexer": "ipython3",
   "version": "3.12.3"
  }
 },
 "nbformat": 4,
 "nbformat_minor": 2
}
