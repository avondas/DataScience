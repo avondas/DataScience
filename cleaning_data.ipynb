{
 "cells": [
  {
   "cell_type": "markdown",
   "metadata": {},
   "source": [
    "### CLEANING DATA"
   ]
  },
  {
   "cell_type": "code",
   "execution_count": 8,
   "metadata": {},
   "outputs": [],
   "source": [
    "import pandas as pd\n",
    "\n",
    "# Load the data\n",
    "data = pd.read_csv('dataset/prepared_data.csv', sep=\";\")\n"
   ]
  },
  {
   "cell_type": "code",
   "execution_count": 9,
   "metadata": {},
   "outputs": [],
   "source": [
    "# Detecting outliers using IQR\n",
    "def detect_outliers(df, column):\n",
    "    Q1 = df[column].quantile(0.25)\n",
    "    Q3 = df[column].quantile(0.75)\n",
    "    IQR = Q3 - Q1\n",
    "    lower_bound = Q1 - 1.5 * IQR\n",
    "    upper_bound = Q3 + 1.5 * IQR\n",
    "    outliers = df[(df[column] < lower_bound) | (df[column] > upper_bound)]\n",
    "    return outliers\n",
    "\n",
    "outliers_gdp = detect_outliers(data, 'gdp')\n",
    "outliers_co2 = detect_outliers(data, 'co2')\n",
    "appended_data = pd.concat([outliers_gdp, outliers_co2])"
   ]
  },
  {
   "cell_type": "code",
   "execution_count": 10,
   "metadata": {},
   "outputs": [],
   "source": [
    "# REMOVING OUTLIERS\n",
    "data = data[~data['country'].isin(appended_data['country'])]\n",
    "\n",
    "#CLEANING 0 VALUES\n",
    "columns_with_zeros = data.columns[(data == 0).any()]\n",
    "\n",
    "for column in columns_with_zeros:\n",
    "    # Calculate the mean of the column, excluding zero values\n",
    "    mean_value = data[data[column] != 0][column].mean()\n",
    "    # Replace zero values with the calculated mean\n",
    "    data[column] = data[column].replace(0, mean_value)\n",
    "\n",
    "\n",
    "# CLEANING MISSING VALUES\n",
    "# Specify columns to exclude from filling NaNs\n",
    "exclude_columns = ['country', 'year', 'iso_code']\n",
    "\n",
    "# Fill NaNs with the mean for columns not in the exclude list\n",
    "columns_to_fill = [col for col in data.columns if col not in exclude_columns]\n",
    "data[columns_to_fill] = data[columns_to_fill].apply(lambda x: x.fillna(x.mean()), axis=0)\n",
    "\n",
    "# MERGE IN WORLD BANK CLASSSIFICATION\n",
    "world_bank = pd.read_csv('dataset/world-bank-income-classification.csv')\n",
    "world_bank = world_bank[['country', 'year', 'classification']]\n",
    "\n",
    "data = pd.merge(data, world_bank, on=['country', 'year'])\n",
    "\n",
    "# Save the cleaned data to a new CSV file\n",
    "data.to_csv('dataset/cleaned_data.csv', sep=\";\", index=False)"
   ]
  }
 ],
 "metadata": {
  "kernelspec": {
   "display_name": "Python 3",
   "language": "python",
   "name": "python3"
  },
  "language_info": {
   "codemirror_mode": {
    "name": "ipython",
    "version": 3
   },
   "file_extension": ".py",
   "mimetype": "text/x-python",
   "name": "python",
   "nbconvert_exporter": "python",
   "pygments_lexer": "ipython3",
   "version": "3.12.3"
  }
 },
 "nbformat": 4,
 "nbformat_minor": 2
}
